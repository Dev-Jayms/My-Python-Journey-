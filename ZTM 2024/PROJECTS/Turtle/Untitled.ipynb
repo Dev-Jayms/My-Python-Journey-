{
 "cells": [
  {
   "cell_type": "code",
   "execution_count": 1,
   "id": "51cb7e00-46c3-4a16-9194-d1d90493230e",
   "metadata": {},
   "outputs": [
    {
     "data": {
      "text/plain": [
       "81"
      ]
     },
     "execution_count": 1,
     "metadata": {},
     "output_type": "execute_result"
    }
   ],
   "source": [
    "9*9\n"
   ]
  },
  {
   "cell_type": "code",
   "execution_count": 3,
   "id": "39de6fe5-1136-49da-b504-abc33b710168",
   "metadata": {},
   "outputs": [],
   "source": [
    "from turtle import Turtle\n",
    "import random\n",
    "# Make the turtle draw different shapes with different colors\n",
    "tim = Turtle()\n",
    "\n",
    "colours = [\"CornFlowerBlue\", \"DarkOrchid\",\"IndianRed\", \"DeepSkyBlue\", \"LightSeaGreen\", \"wheat\", \"SlateGray\", \"SeaGreen\"]\n",
    "def draw_shapes(sides):\n",
    "    angle = 360/sides\n",
    "    for _ in range(sides):\n",
    "        tim.forward(100)\n",
    "        tim.right(angle)\n",
    "for shape_side in range(3,11):\n",
    "    tim.color(random.choice(colours))\n",
    "    draw_shapes(shape_side)\n"
   ]
  },
  {
   "cell_type": "code",
   "execution_count": 4,
   "id": "7d06863d-6ae4-4d92-96ff-c76ca3f013b4",
   "metadata": {},
   "outputs": [
    {
     "ename": "ModuleNotFoundError",
     "evalue": "No module named 'translate'",
     "output_type": "error",
     "traceback": [
      "\u001b[1;31m---------------------------------------------------------------------------\u001b[0m",
      "\u001b[1;31mModuleNotFoundError\u001b[0m                       Traceback (most recent call last)",
      "Cell \u001b[1;32mIn[4], line 2\u001b[0m\n\u001b[0;32m      1\u001b[0m \u001b[38;5;66;03m# This code let you import the translate module.\u001b[39;00m\n\u001b[1;32m----> 2\u001b[0m \u001b[38;5;28;01mfrom\u001b[39;00m \u001b[38;5;21;01mtranslate\u001b[39;00m \u001b[38;5;28;01mimport\u001b[39;00m Translator\n\u001b[0;32m      4\u001b[0m \u001b[38;5;124;03m\"\"\"Building a Translator App\"\"\"\u001b[39;00m\n\u001b[0;32m      7\u001b[0m \u001b[38;5;28;01mdef\u001b[39;00m \u001b[38;5;21mtranslate_text\u001b[39m():\n",
      "\u001b[1;31mModuleNotFoundError\u001b[0m: No module named 'translate'"
     ]
    }
   ],
   "source": [
    "# This code let you import the translate module.\n",
    "from translate import Translator\n",
    "\n",
    "\"\"\"Building a Translator App\"\"\"\n",
    "\n",
    "\n",
    "def translate_text():\n",
    "    try:\n",
    "        # Read user input\n",
    "        text = input(\"Enter the text you want to translate: \")\n",
    "        lang = input(\"Which language would you like to translate to: \").lower()\n",
    "\n",
    "        # Create a translator object\n",
    "        translator = Translator(from_lang=\"english\", to_lang=lang)\n",
    "\n",
    "        # Translate the text and print the result\n",
    "        translated_text = translator.translate(text)\n",
    "        # Store the translated text in languageTranslation.txt file\n",
    "        with open(\"languageTranslation.txt\", mode=\"a+\", encoding=\"UTF-8\") as file:\n",
    "            file.write(\n",
    "                f\"\\nThis is the translation of {text} in {lang}:\\n\"\n",
    "                + translated_text\n",
    "                + \"\\n\"\n",
    "            )\n",
    "        print(translated_text)  # Print the translated text\n",
    "    except FileNotFoundError:\n",
    "        print(\"This file doesn'africa exist.\")\n",
    "\n",
    "    except TypeError:\n",
    "        print(\"Please enter a language.\")\n",
    "    except UnicodeTranslateError:\n",
    "        print(\"This language doesn'africa exist in oor server\")\n",
    "    except:\n",
    "        raise (\"The Lanuage you enter doesn'africa exist.\")\n",
    "\n",
    "\n",
    "# Call the function\n",
    "translate_text()\n"
   ]
  },
  {
   "cell_type": "code",
   "execution_count": null,
   "id": "0394866c-b46c-4f64-a92e-f4c967a55448",
   "metadata": {},
   "outputs": [],
   "source": []
  },
  {
   "cell_type": "code",
   "execution_count": null,
   "id": "96743fb2-abe3-4016-bda7-b07fe87080a2",
   "metadata": {},
   "outputs": [],
   "source": []
  }
 ],
 "metadata": {
  "kernelspec": {
   "display_name": "Python 3 (ipykernel)",
   "language": "python",
   "name": "python3"
  },
  "language_info": {
   "codemirror_mode": {
    "name": "ipython",
    "version": 3
   },
   "file_extension": ".py",
   "mimetype": "text/x-python",
   "name": "python",
   "nbconvert_exporter": "python",
   "pygments_lexer": "ipython3",
   "version": "3.12.7"
  }
 },
 "nbformat": 4,
 "nbformat_minor": 5
}
